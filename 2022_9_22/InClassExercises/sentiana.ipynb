{
 "cells": [
  {
   "cell_type": "code",
   "execution_count": 3,
   "metadata": {},
   "outputs": [
    {
     "name": "stdout",
     "output_type": "stream",
     "text": [
      "Requirement already satisfied: snownlp in c:\\users\\user\\anaconda3\\envs\\nlp_web_env\\lib\\site-packages (0.12.3)\n"
     ]
    }
   ],
   "source": [
    "!pip install snownlp\n",
    "#pip list"
   ]
  },
  {
   "cell_type": "code",
   "execution_count": 1,
   "metadata": {},
   "outputs": [],
   "source": [
    "from snownlp import SnowNLP\n",
    "\n",
    "s = SnowNLP(u'今天是周六。')"
   ]
  },
  {
   "cell_type": "code",
   "execution_count": 4,
   "metadata": {},
   "outputs": [
    {
     "data": {
      "text/plain": [
       "['今天', '是', '周六', '。']"
      ]
     },
     "execution_count": 4,
     "metadata": {},
     "output_type": "execute_result"
    }
   ],
   "source": [
    "s.words"
   ]
  },
  {
   "cell_type": "code",
   "execution_count": 5,
   "metadata": {},
   "outputs": [
    {
     "data": {
      "text/plain": [
       "[('我', 'r'), ('喜欢', 'v'), ('学', 'v'), ('语言', 'n'), ('。', 'w')]"
      ]
     },
     "execution_count": 5,
     "metadata": {},
     "output_type": "execute_result"
    }
   ],
   "source": [
    "s = SnowNLP(u'我喜欢学语言。')\n",
    "list(s.tags)"
   ]
  },
  {
   "cell_type": "code",
   "execution_count": 6,
   "metadata": {},
   "outputs": [
    {
     "data": {
      "text/plain": [
       "'我喜欢学语言。'"
      ]
     },
     "execution_count": 6,
     "metadata": {},
     "output_type": "execute_result"
    }
   ],
   "source": [
    "s.han"
   ]
  },
  {
   "cell_type": "code",
   "execution_count": 8,
   "metadata": {},
   "outputs": [
    {
     "name": "stdout",
     "output_type": "stream",
     "text": [
      "0.6280625442610851\n",
      "0.9470420932790607\n"
     ]
    }
   ],
   "source": [
    "text_1 = '你還在那邊用功' # 諷刺感\n",
    "s_1 = SnowNLP(text_1)\n",
    "text_2 = '人生好难啊，要怎样才能每天开心的活着呢？'\n",
    "s_2 = SnowNLP(text_2)\n",
    "print(s_1.sentiments)\n",
    "print(s_2.sentiments)\n"
   ]
  },
  {
   "cell_type": "code",
   "execution_count": 4,
   "metadata": {},
   "outputs": [
    {
     "name": "stdout",
     "output_type": "stream",
     "text": [
      "0.3676539123656706\n",
      "0.3088557861490574\n",
      "0.345518496666802\n"
     ]
    }
   ],
   "source": [
    "se = ['這禮拜一點進展都沒有','工程一直拖','結果只有勤師傅來']\n",
    "# text_3 = SnowNLP(u'這禮拜一點進展都沒有')\n",
    "# sent = text_3.sentences\n",
    "for s in se:\n",
    "    s_3 = SnowNLP(s)\n",
    "    print(s_3.sentiments)"
   ]
  },
  {
   "cell_type": "markdown",
   "metadata": {},
   "source": [
    "    ## 規則不好寫，可以參見\n",
    "    ```\n",
    "    snownlp-master/snownlp/sentiment/neg.txt\n",
    "    snownlp-master/snownlp/sentiment/pos.txt\n",
    "    ```\n",
    "    `vaderSentiment` 算是利用詞典與規則方法中較厲害的，速度也快，但是可惜不支援中文。\n",
    "    https://github.com/cjhutto/vaderSentiment/blob/master/vaderSentiment/vader_lexicon.txt\n",
    "    ```"
   ]
  },
  {
   "cell_type": "code",
   "execution_count": null,
   "metadata": {},
   "outputs": [],
   "source": []
  }
 ],
 "metadata": {
  "kernelspec": {
   "display_name": "Python 3.9.13 ('nlp_web_env')",
   "language": "python",
   "name": "python3"
  },
  "language_info": {
   "codemirror_mode": {
    "name": "ipython",
    "version": 3
   },
   "file_extension": ".py",
   "mimetype": "text/x-python",
   "name": "python",
   "nbconvert_exporter": "python",
   "pygments_lexer": "ipython3",
   "version": "3.9.13"
  },
  "orig_nbformat": 4,
  "vscode": {
   "interpreter": {
    "hash": "d08be32d800ebea0e5151e6e5e4a1d4f3fcb019115365ad4e047b365e3325bfe"
   }
  }
 },
 "nbformat": 4,
 "nbformat_minor": 2
}
